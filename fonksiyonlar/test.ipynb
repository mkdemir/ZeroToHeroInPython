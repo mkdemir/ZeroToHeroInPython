{
 "cells": [
  {
   "cell_type": "code",
   "execution_count": 1,
   "metadata": {},
   "outputs": [
    {
     "name": "stdout",
     "output_type": "stream",
     "text": [
      "Ebob: 12\n"
     ]
    }
   ],
   "source": [
    "def ebob_bulma(sayi1,sayi2):\n",
    "    \n",
    "    i = 1\n",
    "    ebob = 1\n",
    "    while (i <= sayi1 and i <= sayi2 ):\n",
    "\n",
    "        if ( not (sayi1 % i) and not (sayi2 % i)):\n",
    "            ebob = i\n",
    "        i += 1\n",
    "    return ebob\n",
    "sayi1 = int(input(\"sayi-1:\"))\n",
    "sayi2 = int(input(\"sayi-2:\"))\n",
    "\n",
    "print(\"Ebob:\",ebob_bulma(sayi1,sayi2))"
   ]
  }
 ],
 "metadata": {
  "kernelspec": {
   "display_name": "Python 3",
   "language": "python",
   "name": "python3"
  },
  "language_info": {
   "codemirror_mode": {
    "name": "ipython",
    "version": 3
   },
   "file_extension": ".py",
   "mimetype": "text/x-python",
   "name": "python",
   "nbconvert_exporter": "python",
   "pygments_lexer": "ipython3",
   "version": "3.11.3"
  },
  "orig_nbformat": 4
 },
 "nbformat": 4,
 "nbformat_minor": 2
}
