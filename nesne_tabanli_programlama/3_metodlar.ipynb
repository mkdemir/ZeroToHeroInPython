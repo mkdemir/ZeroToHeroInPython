{
 "cells": [
  {
   "attachments": {},
   "cell_type": "markdown",
   "metadata": {},
   "source": [
    "# Nesne Tabanlı Programlama - Metodlar"
   ]
  },
  {
   "attachments": {},
   "cell_type": "markdown",
   "metadata": {},
   "source": [
    "Bu videoda bir sınıf içinde metodlarımızı nasıl tanımlayacağımızı öğrenmeye çalışacağız. Bunun için ilk olarak bir **Yazılımcı** sınıfı tanımlayalım."
   ]
  },
  {
   "cell_type": "code",
   "execution_count": 22,
   "metadata": {},
   "outputs": [],
   "source": [
    "class Yazilimci():\n",
    "    def __init__(self, isim, soyisim, numara, maas, diller) -> None:\n",
    "        self.isim = isim\n",
    "        self.soyisim = soyisim\n",
    "        self.numara = numara    # Yazılımcı objelerinin özellikleri \n",
    "        self.maas = maas\n",
    "        self.diller = diller\n",
    "    \n",
    "    def bilgilerigoster(self):\n",
    "        print(f\"\"\"\n",
    "        Yazılımcı objesinin özellikleri\n",
    "\n",
    "        İsim: {self.isim}\n",
    "        Soyisim: {self.soyisim}\n",
    "        Şirket Numarası: {self.numara}\n",
    "        Maaş: {self.maas}\n",
    "        Bildiği Diller: {self.diller}\n",
    "        \"\"\")\n",
    "\n",
    "    def zam_yap(self, zam_miktari):\n",
    "        print(\"Zam Yapılıyor......\")\n",
    "        self.maas += zam_miktari\n",
    "\n",
    "    def dil_ekle(self, yeni_dil):\n",
    "        print(\"Dil Ekleniyor\")\n",
    "        self.diller.append(yeni_dil)"
   ]
  },
  {
   "cell_type": "code",
   "execution_count": 24,
   "metadata": {},
   "outputs": [],
   "source": [
    "# yazılımcı1 objesi\n",
    "yazilimci1 =  Yazilimci(\"Mustafa Kaan\",\"Demir\",12345,3000,[\"Python\",\"C\",\"Java\"])"
   ]
  },
  {
   "cell_type": "code",
   "execution_count": 23,
   "metadata": {},
   "outputs": [
    {
     "name": "stdout",
     "output_type": "stream",
     "text": [
      "\n",
      "        Yazılımcı objesinin özellikleri\n",
      "\n",
      "        İsim: Mustafa Kaan\n",
      "        Soyisim: Demir\n",
      "        Şirket Numarası: 12345\n",
      "        Maaş: 3000\n",
      "        Diller: ['Python', 'C', 'Java']\n",
      "        \n"
     ]
    }
   ],
   "source": [
    "yazilimci1.bilgilerigoster()"
   ]
  },
  {
   "attachments": {},
   "cell_type": "markdown",
   "metadata": {},
   "source": [
    "Burada **bilgilerigöster** isimli metod tanımlayarak her bir özelliğimizin değeri ekrana derli toplu bir şekilde yazdırmış olduk. Metodlarımızı yazarken dikkat etmemiz gerek nokta, her metodun birinci parametresinin self referansı olması gerektiğidir. Ayrıca objelerimizin özelliklerine mutlaka self referansıyla erişmemiz gerekiyor. İsterseniz bu classa 2 tane daha metod yazalım."
   ]
  },
  {
   "cell_type": "code",
   "execution_count": 26,
   "metadata": {},
   "outputs": [
    {
     "name": "stdout",
     "output_type": "stream",
     "text": [
      "Dil Ekleniyor\n"
     ]
    }
   ],
   "source": [
    "yazilimci1.dil_ekle(\"GoLang\")"
   ]
  },
  {
   "cell_type": "code",
   "execution_count": 27,
   "metadata": {},
   "outputs": [
    {
     "name": "stdout",
     "output_type": "stream",
     "text": [
      "\n",
      "        Yazılımcı objesinin özellikleri\n",
      "\n",
      "        İsim: Mustafa Kaan\n",
      "        Soyisim: Demir\n",
      "        Şirket Numarası: 12345\n",
      "        Maaş: 3000\n",
      "        Bildiği Diller: ['Python', 'C', 'Java', 'GoLang']\n",
      "        \n"
     ]
    }
   ],
   "source": [
    "yazilimci1.bilgilerigoster()"
   ]
  },
  {
   "cell_type": "code",
   "execution_count": 28,
   "metadata": {},
   "outputs": [
    {
     "name": "stdout",
     "output_type": "stream",
     "text": [
      "Zam Yapılıyor......\n"
     ]
    }
   ],
   "source": [
    "yazilimci1.zam_yap(5000)"
   ]
  },
  {
   "cell_type": "code",
   "execution_count": 29,
   "metadata": {},
   "outputs": [
    {
     "name": "stdout",
     "output_type": "stream",
     "text": [
      "\n",
      "        Yazılımcı objesinin özellikleri\n",
      "\n",
      "        İsim: Mustafa Kaan\n",
      "        Soyisim: Demir\n",
      "        Şirket Numarası: 12345\n",
      "        Maaş: 8000\n",
      "        Bildiği Diller: ['Python', 'C', 'Java', 'GoLang']\n",
      "        \n"
     ]
    }
   ],
   "source": [
    "yazilimci1.bilgilerigoster()"
   ]
  }
 ],
 "metadata": {
  "kernelspec": {
   "display_name": "Python 3",
   "language": "python",
   "name": "python3"
  },
  "language_info": {
   "codemirror_mode": {
    "name": "ipython",
    "version": 3
   },
   "file_extension": ".py",
   "mimetype": "text/x-python",
   "name": "python",
   "nbconvert_exporter": "python",
   "pygments_lexer": "ipython3",
   "version": "3.10.6"
  },
  "orig_nbformat": 4
 },
 "nbformat": 4,
 "nbformat_minor": 2
}
