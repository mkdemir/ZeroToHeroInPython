{
 "cells": [
  {
   "attachments": {},
   "cell_type": "markdown",
   "metadata": {},
   "source": [
    "# Nesne Tabanlı Programlama - Sınıflar\n",
    "\n",
    "Bu konuda artık kendi veri tiplerimizi ve objelerimizi üretmeye başlayacağız.\n",
    "\n",
    "Kendi veri tiplerimizi oluşturmak ve bu veri tiplerinden objeler üretmemiz için öncelikle objeleri üreteceğimiz yapıyı tanımlamamız gerekiyor. Bunu tasarladığımız yapıya da **sınıf** veya ingilizce ismiyle **class diyoruz.** Şimdi class yapılarını öğrenerek konumuza başlayalım."
   ]
  },
  {
   "attachments": {},
   "cell_type": "markdown",
   "metadata": {},
   "source": [
    "## Class Anahtar Kelimesi\n",
    "\n",
    "**Sınıflar veya Classlar** objelerimizi oluştururken objelerin özelliklerini ve metodlarını tanımladığımız bir yapıdır ve biz herbir objeyi bu yapıya göre üretiriz. İsterseniz bir Araba **classı** tanımlayarak yapımızı kurmaya başlayalım."
   ]
  },
  {
   "cell_type": "code",
   "execution_count": 1,
   "metadata": {},
   "outputs": [],
   "source": [
    "#  Yeni bir Araba veri tipi oluşturuyoruz.\n",
    "class Araba():\n",
    "    model =  \"Renault Megane\"\n",
    "    renk = \"Gümüş\"            # Sınıfımızın özellikleri (attributes)\n",
    "    beygir_gücü = 110\n",
    "    silindir = 4"
   ]
  }
 ],
 "metadata": {
  "kernelspec": {
   "display_name": "Python 3",
   "language": "python",
   "name": "python3"
  },
  "language_info": {
   "codemirror_mode": {
    "name": "ipython",
    "version": 3
   },
   "file_extension": ".py",
   "mimetype": "text/x-python",
   "name": "python",
   "nbconvert_exporter": "python",
   "pygments_lexer": "ipython3",
   "version": "3.11.3"
  },
  "orig_nbformat": 4
 },
 "nbformat": 4,
 "nbformat_minor": 2
}
