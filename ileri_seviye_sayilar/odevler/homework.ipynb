{
 "cells": [
  {
   "cell_type": "markdown",
   "metadata": {},
   "source": [
    "# İleri Seviye Veri Yapıları ve Objeler"
   ]
  },
  {
   "cell_type": "markdown",
   "metadata": {},
   "source": [
    "Problem 1\n",
    "Elinizde uzunca bir string olsun.\n",
    "\n",
    "            \"ProgramlamaÖdeviİleriSeviyeVeriYapılarıveObjeleripynb\"\n",
    "\n",
    "\n",
    "Bu string içindeki harflerin frekansını (bir harfin kaç defa geçtiği) bulmaya çalışın.\n",
    "\n",
    "*İpucu : Kodlama egzersizimizde buna çok benzer bir şey yapmıştık.*"
   ]
  },
  {
   "cell_type": "code",
   "execution_count": 1,
   "metadata": {},
   "outputs": [
    {
     "name": "stdout",
     "output_type": "stream",
     "text": [
      "P : 1\n",
      "r : 6\n",
      "o : 1\n",
      "g : 1\n",
      "a : 5\n",
      "m : 2\n",
      "l : 4\n",
      "Ö : 1\n",
      "d : 1\n",
      "e : 8\n",
      "v : 3\n",
      "i : 5\n",
      "İ : 1\n",
      "S : 1\n",
      "y : 2\n",
      "V : 1\n",
      "Y : 1\n",
      "p : 2\n",
      "ı : 2\n",
      "O : 1\n",
      "b : 2\n",
      "j : 1\n",
      "n : 1\n"
     ]
    }
   ],
   "source": [
    "s =  \"ProgramlamaÖdeviİleriSeviyeVeriYapılarıveObjeleripynb\"\n",
    "frekans = dict()\n",
    "\n",
    "for karakter in s:\n",
    "    if (karakter in frekans):\n",
    "        frekans[karakter] += 1\n",
    "    else:\n",
    "        frekans[karakter] = 1\n",
    "for i,j in frekans.items():\n",
    "    \n",
    "    print(i,\":\",j)"
   ]
  },
  {
   "cell_type": "markdown",
   "metadata": {},
   "source": [
    "Problem 2\n",
    "\"şiir.txt\" şeklinde bir dosya oluşturun ve içinde şu satırlar yer alsın.\n",
    "\n",
    "                    Memlekete sis çökmüş bir gece \n",
    "                    Usulca yanağıma sen düşüyorsun\n",
    "                    Sabah saat dokuzu beş geçe\n",
    "                    Terk edip bizleri gidiyorsun\n",
    "                    Ayrılık bu kadar yakmamıştı içimizi\n",
    "                    Farkında mısın bilmiyorum\n",
    "                    Aldın beraberinde cumhuriyetimizi\n",
    "                    Korkunç bir veda, sararmıştı her yer\n",
    "                    Ellerini uzat tutmak istiyoruz\n",
    "                    Masmavi gözleri kaybetmiş çocuk\n",
    "                    Aldı bir sabah ruhumuzu\n",
    "                    Lakin nasıl bölmesin yokluğun uykumuzu\n",
    "\n",
    "Bu dosyanın herbir satırını okuyun. Satırların baş harflerini birbirine ekleyerek bir string oluşturun ve bu string'i ekrana yazdırın."
   ]
  },
  {
   "cell_type": "code",
   "execution_count": null,
   "metadata": {},
   "outputs": [],
   "source": [
    "bas_harfler = \"\"\n",
    "\n",
    "with open(\"şiir.txt\",\"r\",encoding=\"utf-8\") as file:\n",
    "    for satır in file:\n",
    "        bas_harfler += satır[0]\n",
    "print(bas_harfler)"
   ]
  },
  {
   "cell_type": "markdown",
   "metadata": {},
   "source": [
    "Problem 3\n",
    "Elinizde \"mailler.txt\" adında , maillerin ve bazı yazıların bulunduğu bir dosya olsun. Bu dosyanın her bir satırını okuyun ve sadece mail formatına uygun olanları ekrana yazdırın.\n",
    "\n",
    "                    coskun.m.murat@gmail.com\n",
    "                    example@xyz.com\n",
    "                    mustafa.com\n",
    "                    mustafa@gmail\n",
    "                    kerim@yahoo.com\n",
    "\n",
    "                           //\n",
    "                           //\n",
    "                           //\n",
    "\n",
    "\n",
    "*İpucu: Stringlerde bulunan endswith ve find metodlarını kullanabilirsiniz.*"
   ]
  },
  {
   "cell_type": "code",
   "execution_count": null,
   "metadata": {},
   "outputs": [],
   "source": [
    "ith open(\"mailler.txt\",\"r\",encoding=\"utf-8\") as file:\n",
    "    for satır in file:\n",
    "        satır = satır[:-1]\n",
    "        if (satır.endswith(\".com\") and satır.find(\"@\") != -1):\n",
    "            print(satır)\n",
    "            "
   ]
  },
  {
   "cell_type": "markdown",
   "metadata": {},
   "source": [
    "Problem 4\n",
    "Elinizde 2 tane liste bulunsun. Bu listelerden isim ve soyisimleri birleştirerek , ekrana isim ve soyisimleri *isimlere* göre sıralı bir şekilde yazdırmaya çalışın.\n",
    "\n",
    "        isim -----> [\"Kerim\",\"Tarık\",\"Ezgi\",\"Kemal\",\"İlkay\",\"Şükran\",\"Merve\"]\n",
    "\n",
    "        soyisim ------> [\"Yılmaz\",\"Öztürk\",\"Dağdeviren\",\"Atatürk\",\"Dikmen\",\"Kaya\",\"Polat\"]"
   ]
  },
  {
   "cell_type": "code",
   "execution_count": 4,
   "metadata": {},
   "outputs": [
    {
     "name": "stdout",
     "output_type": "stream",
     "text": [
      "Ezgi Dağdeviren\n",
      "Kemal Atatürk\n",
      "Kerim Yılmaz\n",
      "Merve Polat\n",
      "Tarık Öztürk\n",
      "İlkay Dikmen\n",
      "Şükran Kaya\n"
     ]
    }
   ],
   "source": [
    "isim = [\"Kerim\",\"Tarık\",\"Ezgi\",\"Kemal\",\"İlkay\",\"Şükran\",\"Merve\"]\n",
    "\n",
    "soyisim = [\"Yılmaz\",\"Öztürk\",\"Dağdeviren\",\"Atatürk\",\"Dikmen\",\"Kaya\",\"Polat\"]\n",
    "\n",
    "liste = list(zip(isim,soyisim))\n",
    "\n",
    "liste.sort()\n",
    "\n",
    "for i,j in liste:\n",
    "    print(i,j)\n"
   ]
  }
 ],
 "metadata": {
  "kernelspec": {
   "display_name": "Python 3",
   "language": "python",
   "name": "python3"
  },
  "language_info": {
   "codemirror_mode": {
    "name": "ipython",
    "version": 3
   },
   "file_extension": ".py",
   "mimetype": "text/x-python",
   "name": "python",
   "nbconvert_exporter": "python",
   "pygments_lexer": "ipython3",
   "version": "3.10.6"
  },
  "orig_nbformat": 4
 },
 "nbformat": 4,
 "nbformat_minor": 2
}
