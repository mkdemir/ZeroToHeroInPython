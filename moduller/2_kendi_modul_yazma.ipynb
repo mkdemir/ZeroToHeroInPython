{
 "cells": [
  {
   "attachments": {},
   "cell_type": "markdown",
   "metadata": {},
   "source": [
    "# Kendi Modüllerimizi Yazmak\n",
    "Bu konuda kendi modüllerimizi nasıl yazacağımızı öğrenmeye çalışacağız. Ancak bu derste Python dosyaları oluşturacağımız için kendi bilgisayarımızda konuyu anlatmaya çalışacağım. Uygulayacağımız adımlar şu şekilde;\n",
    "\n",
    "                1. Herhangi bir tane klasör oluşturuyoruz.\n",
    "                2. Modülümüz ve deneme Python dosyamız aynı dizinde olması gerektiği için 2 tane Python dosyasını da\n",
    "                bu klasör altında oluşturuyoruz.\n",
    "                3. modul1.py ve deneme.py dosyası oluşturuyoruz.\n",
    "                4. modul1.py dosyasının içine istediğimiz kadar fonksiyonu yazıyoruz.\n",
    "                5. Son olarak da deneme.py dosyasının içinde bu modul1.py modülünü kullanıyoruz.\n",
    "Peki yazdığımız bir modülü her yerden kullanmak için ne yapacağız ? Bunun için yazdığımız modul1.py dosyasının Python35/Lib klasörünün altına atmamız gerekiyor. Böylelikle bu modülü de math modülü gibi her dosyada kullanabiliriz."
   ]
  }
 ],
 "metadata": {
  "language_info": {
   "name": "python"
  },
  "orig_nbformat": 4
 },
 "nbformat": 4,
 "nbformat_minor": 2
}
